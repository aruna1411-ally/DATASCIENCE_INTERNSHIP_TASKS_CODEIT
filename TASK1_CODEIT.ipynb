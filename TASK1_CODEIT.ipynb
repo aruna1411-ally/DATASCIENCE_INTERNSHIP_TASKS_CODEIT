{
  "nbformat": 4,
  "nbformat_minor": 0,
  "metadata": {
    "colab": {
      "provenance": [],
      "authorship_tag": "ABX9TyN5TkzOTgSbN4rAJXAcPNKc",
      "include_colab_link": true
    },
    "kernelspec": {
      "name": "python3",
      "display_name": "Python 3"
    },
    "language_info": {
      "name": "python"
    }
  },
  "cells": [
    {
      "cell_type": "markdown",
      "metadata": {
        "id": "view-in-github",
        "colab_type": "text"
      },
      "source": [
        "<a href=\"https://colab.research.google.com/github/aruna1411-ally/DATASCIENCE_INTERNSHIP_TASKS_CODEIT/blob/main/TASK1_CODEIT.ipynb\" target=\"_parent\"><img src=\"https://colab.research.google.com/assets/colab-badge.svg\" alt=\"Open In Colab\"/></a>"
      ]
    },
    {
      "cell_type": "code",
      "execution_count": 5,
      "metadata": {
        "colab": {
          "base_uri": "https://localhost:8080/"
        },
        "id": "J22rAFfpKm_E",
        "outputId": "3f1843b0-9e10-4e5c-9786-e317c7ed72ec"
      },
      "outputs": [
        {
          "output_type": "stream",
          "name": "stdout",
          "text": [
            "root\n",
            " |-- VendorID: integer (nullable = true)\n",
            " |-- tpep_pickup_datetime: timestamp (nullable = true)\n",
            " |-- tpep_dropoff_datetime: timestamp (nullable = true)\n",
            " |-- passenger_count: integer (nullable = true)\n",
            " |-- trip_distance: double (nullable = true)\n",
            " |-- pickup_longitude: double (nullable = true)\n",
            " |-- pickup_latitude: double (nullable = true)\n",
            " |-- RateCodeID: integer (nullable = true)\n",
            " |-- store_and_fwd_flag: string (nullable = true)\n",
            " |-- dropoff_longitude: double (nullable = true)\n",
            " |-- dropoff_latitude: double (nullable = true)\n",
            " |-- payment_type: integer (nullable = true)\n",
            " |-- fare_amount: double (nullable = true)\n",
            " |-- extra: double (nullable = true)\n",
            " |-- mta_tax: double (nullable = true)\n",
            " |-- tip_amount: double (nullable = true)\n",
            " |-- tolls_amount: double (nullable = true)\n",
            " |-- improvement_surcharge: double (nullable = true)\n",
            " |-- total_amount: double (nullable = true)\n",
            "\n",
            "+-------------+\n",
            "|trip_distance|\n",
            "+-------------+\n",
            "|         1.59|\n",
            "|          3.3|\n",
            "|          1.8|\n",
            "|          0.5|\n",
            "|          3.0|\n",
            "+-------------+\n",
            "only showing top 5 rows\n",
            "\n",
            "+--------+------------------+\n",
            "|VendorID|avg(trip_distance)|\n",
            "+--------+------------------+\n",
            "|       1|2.7371701291409343|\n",
            "|       2|  2.78674653645243|\n",
            "+--------+------------------+\n",
            "\n"
          ]
        }
      ],
      "source": [
        "from pyspark.sql import SparkSession\n",
        "from pyspark.sql.functions import col, avg\n",
        "\n",
        "# Start Spark session\n",
        "spark = SparkSession.builder.appName(\"BigDataAnalysis\").getOrCreate()\n",
        "\n",
        "# Load CSV\n",
        "# Replace the path below with the actual path to your file in the Colab environment\n",
        "df = spark.read.csv(r\"/content/yellow_tripdata_2015-01.csv\", header=True, inferSchema=True)\n",
        "\n",
        "# Basic operations\n",
        "df.printSchema()\n",
        "# Example: Select a column\n",
        "df.select(\"trip_distance\").show(5)\n",
        "\n",
        "# Example: Calculate average of a column\n",
        "# Replace \"category_column\" and \"numeric_column\" with actual column names\n",
        "df.groupBy(\"VendorID\").agg(avg(\"trip_distance\")).show()\n",
        "\n",
        "# Stop session\n",
        "spark.stop()"
      ]
    },
    {
      "cell_type": "code",
      "source": [],
      "metadata": {
        "id": "LSpc5zJ5tm1l"
      },
      "execution_count": null,
      "outputs": []
    }
  ]
}