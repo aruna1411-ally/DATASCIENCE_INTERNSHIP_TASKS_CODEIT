{
  "nbformat": 4,
  "nbformat_minor": 0,
  "metadata": {
    "colab": {
      "provenance": [],
      "authorship_tag": "ABX9TyOzK7K+PIlu0ubMlzQpv4Sq",
      "include_colab_link": true
    },
    "kernelspec": {
      "name": "python3",
      "display_name": "Python 3"
    },
    "language_info": {
      "name": "python"
    }
  },
  "cells": [
    {
      "cell_type": "markdown",
      "metadata": {
        "id": "view-in-github",
        "colab_type": "text"
      },
      "source": [
        "<a href=\"https://colab.research.google.com/github/aruna1411-ally/DATASCIENCE_INTERNSHIP_TASKS_CODEIT/blob/main/TASK2_CODEIT.ipynb\" target=\"_parent\"><img src=\"https://colab.research.google.com/assets/colab-badge.svg\" alt=\"Open In Colab\"/></a>"
      ]
    },
    {
      "cell_type": "code",
      "execution_count": 2,
      "metadata": {
        "colab": {
          "base_uri": "https://localhost:8080/"
        },
        "id": "mGJM39roAiFJ",
        "outputId": "612fe6d2-17fe-4978-d357-0ad31390c46c"
      },
      "outputs": [
        {
          "output_type": "stream",
          "name": "stdout",
          "text": [
            "Accuracy: 0.01834862385321101\n",
            "              precision    recall  f1-score   support\n",
            "\n",
            "     2240000       0.00      0.00      0.00         1\n",
            "     2345000       0.00      0.00      0.00         1\n",
            "     2380000       0.00      0.00      0.00         1\n",
            "     2450000       0.00      0.00      0.00         2\n",
            "     2604000       0.00      0.00      0.00         1\n",
            "     2660000       0.00      0.00      0.00         2\n",
            "     2852500       0.00      0.00      0.00         1\n",
            "     2870000       0.00      0.00      0.00         1\n",
            "     2940000       0.00      0.00      0.00         2\n",
            "     2975000       0.00      0.00      0.00         1\n",
            "     3003000       0.00      0.00      0.00         1\n",
            "     3010000       0.00      0.00      0.00         2\n",
            "     3080000       0.00      0.00      0.00         1\n",
            "     3115000       0.00      0.00      0.00         1\n",
            "     3129000       0.00      0.00      0.00         1\n",
            "     3143000       0.00      0.00      0.00         1\n",
            "     3150000       0.00      0.00      0.00         3\n",
            "     3220000       0.00      0.00      0.00         1\n",
            "     3353000       0.00      0.00      0.00         1\n",
            "     3360000       0.00      0.00      0.00         3\n",
            "     3430000       0.00      0.00      0.00         2\n",
            "     3493000       0.00      0.00      0.00         1\n",
            "     3500000       0.01      0.33      0.03         3\n",
            "     3605000       0.00      0.00      0.00         1\n",
            "     3640000       0.00      0.00      0.00         4\n",
            "     3710000       0.00      0.00      0.00         1\n",
            "     3773000       0.00      0.00      0.00         1\n",
            "     3780000       0.00      0.00      0.00         2\n",
            "     3815000       0.00      0.00      0.00         1\n",
            "     3850000       0.00      0.00      0.00         1\n",
            "     3920000       0.00      0.00      0.00         1\n",
            "     4060000       0.00      0.00      0.00         2\n",
            "     4095000       0.00      0.00      0.00         2\n",
            "     4130000       0.00      0.00      0.00         1\n",
            "     4193000       0.00      0.00      0.00         1\n",
            "     4200000       0.03      1.00      0.05         1\n",
            "     4410000       0.00      0.00      0.00         1\n",
            "     4543000       0.00      0.00      0.00         1\n",
            "     4585000       0.00      0.00      0.00         1\n",
            "     4620000       0.00      0.00      0.00         4\n",
            "     4690000       0.00      0.00      0.00         1\n",
            "     4753000       0.00      0.00      0.00         1\n",
            "     4830000       0.00      0.00      0.00         2\n",
            "     4900000       0.00      0.00      0.00         1\n",
            "     5005000       0.00      0.00      0.00         1\n",
            "     5040000       0.00      0.00      0.00         1\n",
            "     5110000       0.00      0.00      0.00         1\n",
            "     5145000       0.00      0.00      0.00         1\n",
            "     5215000       0.00      0.00      0.00         1\n",
            "     5243000       0.00      0.00      0.00         1\n",
            "     5250000       0.00      0.00      0.00         2\n",
            "     5285000       0.00      0.00      0.00         1\n",
            "     5383000       0.00      0.00      0.00         1\n",
            "     5390000       0.00      0.00      0.00         1\n",
            "     5460000       0.00      0.00      0.00         1\n",
            "     5495000       0.00      0.00      0.00         1\n",
            "     5530000       0.00      0.00      0.00         1\n",
            "     5600000       0.00      0.00      0.00         3\n",
            "     5810000       0.00      0.00      0.00         1\n",
            "     5873000       0.00      0.00      0.00         1\n",
            "     5950000       0.00      0.00      0.00         2\n",
            "     6020000       0.00      0.00      0.00         2\n",
            "     6090000       0.00      0.00      0.00         1\n",
            "     6160000       0.00      0.00      0.00         1\n",
            "     6300000       0.00      0.00      0.00         1\n",
            "     6615000       0.00      0.00      0.00         1\n",
            "     7070000       0.00      0.00      0.00         1\n",
            "     7245000       0.00      0.00      0.00         1\n",
            "     7350000       0.00      0.00      0.00         1\n",
            "     7420000       0.00      0.00      0.00         1\n",
            "     7560000       0.00      0.00      0.00         1\n",
            "     7875000       0.00      0.00      0.00         1\n",
            "     7980000       0.00      0.00      0.00         1\n",
            "     8120000       0.00      0.00      0.00         1\n",
            "     8463000       0.00      0.00      0.00         1\n",
            "     8575000       0.00      0.00      0.00         1\n",
            "     8680000       0.00      0.00      0.00         1\n",
            "     8960000       0.00      0.00      0.00         1\n",
            "     9100000       0.00      0.00      0.00         1\n",
            "     9310000       0.00      0.00      0.00         1\n",
            "     9800000       0.00      0.00      0.00         1\n",
            "    10150000       0.00      0.00      0.00         1\n",
            "    11410000       0.00      0.00      0.00         1\n",
            "\n",
            "    accuracy                           0.02       109\n",
            "   macro avg       0.00      0.02      0.00       109\n",
            "weighted avg       0.00      0.02      0.00       109\n",
            "\n"
          ]
        },
        {
          "output_type": "stream",
          "name": "stderr",
          "text": [
            "/usr/local/lib/python3.11/dist-packages/sklearn/linear_model/_logistic.py:465: ConvergenceWarning: lbfgs failed to converge (status=1):\n",
            "STOP: TOTAL NO. OF ITERATIONS REACHED LIMIT.\n",
            "\n",
            "Increase the number of iterations (max_iter) or scale the data as shown in:\n",
            "    https://scikit-learn.org/stable/modules/preprocessing.html\n",
            "Please also refer to the documentation for alternative solver options:\n",
            "    https://scikit-learn.org/stable/modules/linear_model.html#logistic-regression\n",
            "  n_iter_i = _check_optimize_result(\n",
            "/usr/local/lib/python3.11/dist-packages/sklearn/metrics/_classification.py:1565: UndefinedMetricWarning: Precision is ill-defined and being set to 0.0 in labels with no predicted samples. Use `zero_division` parameter to control this behavior.\n",
            "  _warn_prf(average, modifier, f\"{metric.capitalize()} is\", len(result))\n",
            "/usr/local/lib/python3.11/dist-packages/sklearn/metrics/_classification.py:1565: UndefinedMetricWarning: Precision is ill-defined and being set to 0.0 in labels with no predicted samples. Use `zero_division` parameter to control this behavior.\n",
            "  _warn_prf(average, modifier, f\"{metric.capitalize()} is\", len(result))\n",
            "/usr/local/lib/python3.11/dist-packages/sklearn/metrics/_classification.py:1565: UndefinedMetricWarning: Precision is ill-defined and being set to 0.0 in labels with no predicted samples. Use `zero_division` parameter to control this behavior.\n",
            "  _warn_prf(average, modifier, f\"{metric.capitalize()} is\", len(result))\n"
          ]
        }
      ],
      "source": [
        "import pandas as pd\n",
        "from sklearn.model_selection import train_test_split\n",
        "from sklearn.linear_model import LogisticRegression\n",
        "from sklearn.metrics import accuracy_score, classification_report\n",
        "\n",
        "# Load data\n",
        "df = pd.read_csv(\"/content/Housing.csv\")\n",
        "df.dropna(inplace=True)\n",
        "\n",
        "# Feature selection\n",
        "X = df[[\"area\", \"bedrooms\"]]\n",
        "y = df[\"price\"]\n",
        "\n",
        "# Split data\n",
        "X_train, X_test, y_train, y_test = train_test_split(X, y, test_size=0.2)\n",
        "\n",
        "# Train model\n",
        "model = LogisticRegression()\n",
        "model.fit(X_train, y_train)\n",
        "\n",
        "# Evaluate\n",
        "y_pred = model.predict(X_test)\n",
        "print(\"Accuracy:\", accuracy_score(y_test, y_pred))\n",
        "print(classification_report(y_test, y_pred))"
      ]
    }
  ]
}